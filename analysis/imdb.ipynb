{
 "cells": [
  {
   "cell_type": "code",
   "execution_count": 10,
   "metadata": {},
   "outputs": [
    {
     "name": "stdout",
     "output_type": "stream",
     "text": [
      "The autoreload extension is already loaded. To reload it, use:\n",
      "  %reload_ext autoreload\n"
     ]
    }
   ],
   "source": [
    "%load_ext autoreload\n",
    "%autoreload 2\n",
    "import sys\n",
    "import os\n",
    "sys.path.append(os.path.abspath(os.path.join(os.getcwd(), '..')))\n",
    "from helpers import utils\n",
    "import pandas as pd\n",
    "import numpy as np\n",
    "import plotly.express as px\n",
    "from plotly.subplots import make_subplots\n",
    "import plotly.io as pio\n",
    "pio.templates.default = 'plotly_dark'\n",
    "import re\n",
    "\n",
    "dir_path = os.path.join(os.getcwd(), '..')"
   ]
  },
  {
   "cell_type": "code",
   "execution_count": 11,
   "metadata": {},
   "outputs": [],
   "source": [
    "column_names = ['id','movie_name','year','score','avaliations','duration','genres']\n",
    "df = pd.read_csv(dir_path+'/datasets/imdb.txt', sep='\t', names= column_names)"
   ]
  },
  {
   "cell_type": "code",
   "execution_count": null,
   "metadata": {},
   "outputs": [],
   "source": [
    "df.head()"
   ]
  },
  {
   "cell_type": "code",
   "execution_count": 75,
   "metadata": {},
   "outputs": [],
   "source": [
    "# fixing duration format\n",
    "df['duration_in_minutes'] = df['duration'].apply(lambda x: int(re.sub(r'\\s?mins\\.$', '', x)))"
   ]
  },
  {
   "cell_type": "code",
   "execution_count": null,
   "metadata": {},
   "outputs": [],
   "source": [
    "df.info()"
   ]
  },
  {
   "cell_type": "code",
   "execution_count": null,
   "metadata": {},
   "outputs": [],
   "source": [
    "df.describe()"
   ]
  },
  {
   "cell_type": "code",
   "execution_count": null,
   "metadata": {},
   "outputs": [],
   "source": [
    "# Create subplots with 1 row and 4 columns\n",
    "fig = make_subplots(rows=2, cols=2, subplot_titles=(\"Year\", \"Score\", \"Avaliation\", \"Duration\"))\n",
    "\n",
    "# Add histograms to subplots\n",
    "variables = [\"year\", \"score\", \"avaliations\", \"duration_in_minutes\"]\n",
    "for n, var in enumerate(variables): \n",
    "    row= 1\n",
    "    col= n+1\n",
    "    if col > 2:\n",
    "        col= int(np.floor(col/2))\n",
    "        row = 2\n",
    "\n",
    "    fig.add_trace(px.histogram(df, x=var, opacity=0.9, color_discrete_sequence=utils.color_palette).data[0], row=row, col=col)\n",
    "    fig.update_traces(bingroup='x'+str(n), row=row, col=col) # update\n",
    "\n",
    "# Update layout\n",
    "fig.update_layout(\n",
    "    title_text='Data Distribuition',\n",
    "    barmode='overlay',\n",
    "    showlegend=False,\n",
    "    width=900,\n",
    "    height=650,\n",
    "    margin= utils.tight_margin\n",
    ")\n",
    "\n",
    "\n",
    "# Show the figure\n",
    "fig.show()"
   ]
  },
  {
   "cell_type": "code",
   "execution_count": null,
   "metadata": {},
   "outputs": [],
   "source": [
    "# Call the function with the example DataFrame\n",
    "utils.correlation_heatmap(df, columns=[\"year\", \"score\", \"avaliations\", \"duration_in_minutes\"], title='My Correlation Heatmap', figsize=(900, 500))"
   ]
  },
  {
   "cell_type": "code",
   "execution_count": null,
   "metadata": {},
   "outputs": [],
   "source": [
    "df"
   ]
  },
  {
   "cell_type": "code",
   "execution_count": 81,
   "metadata": {},
   "outputs": [],
   "source": [
    "def adjust_duration(dur, mean):\n",
    "    if dur == 0:\n",
    "        return mean\n",
    "    else:\n",
    "        return dur"
   ]
  },
  {
   "cell_type": "code",
   "execution_count": 82,
   "metadata": {},
   "outputs": [],
   "source": [
    "mean_duration = df['duration_in_minutes'].mean()\n",
    "df['duration_in_minutes'] = df['duration_in_minutes'].apply(lambda x: adjust_duration(x, mean_duration))"
   ]
  },
  {
   "cell_type": "code",
   "execution_count": null,
   "metadata": {},
   "outputs": [],
   "source": [
    "# Split genres and apply One-Hot Encoding\n",
    "df['genres_split'] = df['genres'].str.split('|')\n",
    "df_norm = df.explode('genres_split')\n",
    "df_norm = pd.get_dummies(df_norm, columns=['genres_split'], prefix='', prefix_sep='')\n",
    "\n",
    "# Aggregate back to original rows\n",
    "df_norm = df_norm.groupby('id').max().reset_index()\n",
    "\n",
    "df_norm.head(2)\n"
   ]
  },
  {
   "cell_type": "code",
   "execution_count": null,
   "metadata": {},
   "outputs": [],
   "source": [
    "columns= ['year', 'score', 'avaliations', 'duration_in_minutes', 'Action', \n",
    "         'Animation', 'Biography', 'Comedy', 'Crime', 'Drama', 'Family',\n",
    "         'Fantasy', 'Film-Noir', 'History', 'Horror', 'Music', 'Musical',\n",
    "         'Mystery', 'News', 'Reality-TV', 'Romance', 'Sci-Fi', 'Sport',\n",
    "         'Adult', 'Adventure', 'Thriller', 'War', 'Western']\n",
    "\n",
    "y_axis= [ 'Action', 'Adult', 'Adventure', 'Thriller', 'War', 'Western',\n",
    "        'Animation', 'Biography', 'Comedy', 'Crime', 'Drama', 'Family',\n",
    "        'Fantasy', 'Film-Noir', 'History', 'Horror', 'Music', 'Musical',\n",
    "        'Mystery', 'News', 'Reality-TV', 'Romance', 'Sci-Fi', 'Sport',]\n",
    "\n",
    "x_axis = ['year', 'score', 'avaliations', 'duration_in_minutes']\n",
    "\n",
    "utils.correlation_heatmap(df_norm, columns=columns, y_axis=y_axis, x_axis=x_axis, figsize=(1000, 800))"
   ]
  },
  {
   "cell_type": "code",
   "execution_count": null,
   "metadata": {},
   "outputs": [],
   "source": [
    "dfPlot = df_norm.groupby('year')[['score','avaliations','id']].agg(dict(score='mean', avaliations='sum', id='count')).reset_index()\n",
    "\n",
    "fig = px.bar(dfPlot, x='year',y='score', color='score', hover_data=['avaliations', 'id'], text=round(dfPlot['score'],1))\n",
    "fig.update_traces(textposition='outside')\n",
    "fig.update_yaxes(range=[5,8])"
   ]
  },
  {
   "cell_type": "code",
   "execution_count": null,
   "metadata": {},
   "outputs": [],
   "source": [
    "import plotly.graph_objects as go\n",
    "\n",
    "def combine_px_figures(fig1, fig2, use_secondary_y=False, title=\"Combined Chart\", figsize=(800, 600)):\n",
    "    \"\"\"\n",
    "    Combines two Plotly Express figures into a single chart with an option for a secondary y-axis.\n",
    "\n",
    "    Parameters:\n",
    "    - fig1 (go.Figure): First Plotly Express figure.\n",
    "    - fig2 (go.Figure): Second Plotly Express figure.\n",
    "    - use_secondary_y (bool): Whether to use a secondary y-axis for fig2. Default is False.\n",
    "    - title (str): Title of the combined chart.\n",
    "    - figsize (tuple): Width and height of the figure (in pixels).\n",
    "\n",
    "    Returns:\n",
    "    - go.Figure: Combined Plotly figure.\n",
    "    \"\"\"\n",
    "    # Create a new figure\n",
    "    combined_fig = go.Figure()\n",
    "\n",
    "    # Add traces from both figures\n",
    "    for trace in fig1.data:\n",
    "        combined_fig.add_trace(trace)\n",
    "    for trace in fig2.data:\n",
    "        combined_fig.add_trace(trace.update(yaxis=\"y2\") if use_secondary_y else trace)\n",
    "\n",
    "    # Extract axis labels from the original figures\n",
    "    xaxis_title = fig1.layout.xaxis.title.text or \"X-axis\"\n",
    "    yaxis_title = fig1.layout.yaxis.title.text or \"Y-axis\"\n",
    "    yaxis2_title = fig2.layout.yaxis.title.text or \"Y2-axis\"\n",
    "\n",
    "    # Update layout with optional secondary y-axis\n",
    "    combined_fig.update_layout(\n",
    "        title=dict(text=title, x=0.5, font=dict(size=18)),\n",
    "        width=figsize[0],\n",
    "        height=figsize[1],\n",
    "        margin=dict(l=10, r=10, t=50, b=10),\n",
    "        xaxis=dict(title=xaxis_title),\n",
    "        yaxis=dict(title=yaxis_title),\n",
    "    )\n",
    "\n",
    "    if use_secondary_y:\n",
    "        combined_fig.update_layout(\n",
    "            yaxis2=dict(\n",
    "                title=yaxis2_title,\n",
    "                overlaying='y',\n",
    "                side='right',\n",
    "                showgrid=False\n",
    "            )\n",
    "        )\n",
    "\n",
    "    combined_fig.show()\n",
    "    return combined_fig\n",
    "\n",
    "# Example Usage with Plotly Express:\n",
    "import plotly.express as px\n",
    "\n",
    "# Create two Plotly Express figures\n",
    "fig1 = px.line(x=[1, 2, 3], y=[4, 5, 6], labels={'x': 'Time', 'y': 'Value 1'}, title=\"Line Chart\", color_discrete_sequence=utils.color_palette[3:])\n",
    "fig2 = px.bar(x=[1, 2, 3], y=[7, 8, 9], labels={'x': 'Time', 'y': 'Value 2'}, title=\"Bar Chart\", color_discrete_sequence=utils.color_palette[1:])\n",
    "\n",
    "# Combine them into one figure with a secondary y-axis\n",
    "combined_fig = combine_px_figures(fig2, fig1, use_secondary_y=True, title=\"Line and Bar Chart\")\n"
   ]
  },
  {
   "cell_type": "code",
   "execution_count": null,
   "metadata": {},
   "outputs": [],
   "source": []
  }
 ],
 "metadata": {
  "kernelspec": {
   "display_name": ".venv",
   "language": "python",
   "name": "python3"
  },
  "language_info": {
   "codemirror_mode": {
    "name": "ipython",
    "version": 3
   },
   "file_extension": ".py",
   "mimetype": "text/x-python",
   "name": "python",
   "nbconvert_exporter": "python",
   "pygments_lexer": "ipython3",
   "version": "3.12.4"
  }
 },
 "nbformat": 4,
 "nbformat_minor": 2
}
